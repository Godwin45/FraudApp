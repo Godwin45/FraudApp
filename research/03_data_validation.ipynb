{
 "cells": [
  {
   "cell_type": "code",
   "execution_count": 1,
   "metadata": {},
   "outputs": [],
   "source": [
    "import os"
   ]
  },
  {
   "cell_type": "code",
   "execution_count": 2,
   "metadata": {},
   "outputs": [
    {
     "data": {
      "text/plain": [
       "'c:\\\\Users\\\\pcx\\\\Desktop\\\\Projects\\\\credit\\\\FraudApp\\\\research'"
      ]
     },
     "execution_count": 2,
     "metadata": {},
     "output_type": "execute_result"
    }
   ],
   "source": [
    "%pwd"
   ]
  },
  {
   "cell_type": "code",
   "execution_count": 3,
   "metadata": {},
   "outputs": [],
   "source": [
    "os.chdir(\"../\")"
   ]
  },
  {
   "cell_type": "code",
   "execution_count": 4,
   "metadata": {},
   "outputs": [
    {
     "data": {
      "text/plain": [
       "'c:\\\\Users\\\\pcx\\\\Desktop\\\\Projects\\\\credit\\\\FraudApp'"
      ]
     },
     "execution_count": 4,
     "metadata": {},
     "output_type": "execute_result"
    }
   ],
   "source": [
    "%pwd"
   ]
  },
  {
   "cell_type": "code",
   "execution_count": 5,
   "metadata": {},
   "outputs": [],
   "source": [
    "import pandas as pd"
   ]
  },
  {
   "cell_type": "code",
   "execution_count": 6,
   "metadata": {},
   "outputs": [
    {
     "data": {
      "text/html": [
       "<div>\n",
       "<style scoped>\n",
       "    .dataframe tbody tr th:only-of-type {\n",
       "        vertical-align: middle;\n",
       "    }\n",
       "\n",
       "    .dataframe tbody tr th {\n",
       "        vertical-align: top;\n",
       "    }\n",
       "\n",
       "    .dataframe thead th {\n",
       "        text-align: right;\n",
       "    }\n",
       "</style>\n",
       "<table border=\"1\" class=\"dataframe\">\n",
       "  <thead>\n",
       "    <tr style=\"text-align: right;\">\n",
       "      <th></th>\n",
       "      <th>scaled_amount</th>\n",
       "      <th>scaled_time</th>\n",
       "      <th>V1</th>\n",
       "      <th>V2</th>\n",
       "      <th>V3</th>\n",
       "      <th>V4</th>\n",
       "      <th>V5</th>\n",
       "      <th>V6</th>\n",
       "      <th>V7</th>\n",
       "      <th>V8</th>\n",
       "      <th>...</th>\n",
       "      <th>V20</th>\n",
       "      <th>V21</th>\n",
       "      <th>V22</th>\n",
       "      <th>V23</th>\n",
       "      <th>V24</th>\n",
       "      <th>V25</th>\n",
       "      <th>V26</th>\n",
       "      <th>V27</th>\n",
       "      <th>V28</th>\n",
       "      <th>Class</th>\n",
       "    </tr>\n",
       "  </thead>\n",
       "  <tbody>\n",
       "    <tr>\n",
       "      <th>0</th>\n",
       "      <td>17.089918</td>\n",
       "      <td>0.941482</td>\n",
       "      <td>-0.127724</td>\n",
       "      <td>-5.539370</td>\n",
       "      <td>-2.146346</td>\n",
       "      <td>-0.699421</td>\n",
       "      <td>-2.441239</td>\n",
       "      <td>0.695626</td>\n",
       "      <td>0.084814</td>\n",
       "      <td>-0.091089</td>\n",
       "      <td>...</td>\n",
       "      <td>1.996949</td>\n",
       "      <td>0.176052</td>\n",
       "      <td>-1.894587</td>\n",
       "      <td>-0.585389</td>\n",
       "      <td>0.157868</td>\n",
       "      <td>-1.065949</td>\n",
       "      <td>-0.717255</td>\n",
       "      <td>-0.215269</td>\n",
       "      <td>0.164709</td>\n",
       "      <td>0</td>\n",
       "    </tr>\n",
       "    <tr>\n",
       "      <th>1</th>\n",
       "      <td>0.115978</td>\n",
       "      <td>-0.645062</td>\n",
       "      <td>0.923764</td>\n",
       "      <td>0.344048</td>\n",
       "      <td>-2.880004</td>\n",
       "      <td>1.721680</td>\n",
       "      <td>-3.019565</td>\n",
       "      <td>-0.639736</td>\n",
       "      <td>-3.801325</td>\n",
       "      <td>1.299096</td>\n",
       "      <td>...</td>\n",
       "      <td>0.170872</td>\n",
       "      <td>0.899931</td>\n",
       "      <td>1.481271</td>\n",
       "      <td>0.725266</td>\n",
       "      <td>0.176960</td>\n",
       "      <td>-1.815638</td>\n",
       "      <td>-0.536517</td>\n",
       "      <td>0.489035</td>\n",
       "      <td>-0.049729</td>\n",
       "      <td>1</td>\n",
       "    </tr>\n",
       "    <tr>\n",
       "      <th>2</th>\n",
       "      <td>6.053099</td>\n",
       "      <td>-0.226201</td>\n",
       "      <td>0.423572</td>\n",
       "      <td>-1.314097</td>\n",
       "      <td>-0.663715</td>\n",
       "      <td>1.091460</td>\n",
       "      <td>-0.019898</td>\n",
       "      <td>0.749392</td>\n",
       "      <td>0.484669</td>\n",
       "      <td>0.038430</td>\n",
       "      <td>...</td>\n",
       "      <td>0.791910</td>\n",
       "      <td>-0.005907</td>\n",
       "      <td>-0.972667</td>\n",
       "      <td>-0.595831</td>\n",
       "      <td>-1.402008</td>\n",
       "      <td>0.547807</td>\n",
       "      <td>-0.469772</td>\n",
       "      <td>-0.065442</td>\n",
       "      <td>0.074948</td>\n",
       "      <td>0</td>\n",
       "    </tr>\n",
       "    <tr>\n",
       "      <th>3</th>\n",
       "      <td>-0.296653</td>\n",
       "      <td>0.852830</td>\n",
       "      <td>-0.242245</td>\n",
       "      <td>4.147186</td>\n",
       "      <td>-5.672349</td>\n",
       "      <td>6.493741</td>\n",
       "      <td>1.591168</td>\n",
       "      <td>-1.602523</td>\n",
       "      <td>-0.950463</td>\n",
       "      <td>0.722903</td>\n",
       "      <td>...</td>\n",
       "      <td>0.562030</td>\n",
       "      <td>0.249023</td>\n",
       "      <td>-0.480286</td>\n",
       "      <td>-0.286080</td>\n",
       "      <td>-1.153575</td>\n",
       "      <td>-0.035571</td>\n",
       "      <td>0.559628</td>\n",
       "      <td>0.409446</td>\n",
       "      <td>0.221048</td>\n",
       "      <td>1</td>\n",
       "    </tr>\n",
       "    <tr>\n",
       "      <th>4</th>\n",
       "      <td>0.110669</td>\n",
       "      <td>-0.361623</td>\n",
       "      <td>-1.380487</td>\n",
       "      <td>-0.323090</td>\n",
       "      <td>2.600612</td>\n",
       "      <td>-1.217520</td>\n",
       "      <td>0.097694</td>\n",
       "      <td>-0.817269</td>\n",
       "      <td>-0.207665</td>\n",
       "      <td>0.225391</td>\n",
       "      <td>...</td>\n",
       "      <td>0.198598</td>\n",
       "      <td>0.335022</td>\n",
       "      <td>0.845532</td>\n",
       "      <td>-0.233717</td>\n",
       "      <td>0.576242</td>\n",
       "      <td>0.611262</td>\n",
       "      <td>-0.541609</td>\n",
       "      <td>0.066936</td>\n",
       "      <td>0.084917</td>\n",
       "      <td>0</td>\n",
       "    </tr>\n",
       "  </tbody>\n",
       "</table>\n",
       "<p>5 rows × 31 columns</p>\n",
       "</div>"
      ],
      "text/plain": [
       "   scaled_amount  scaled_time        V1        V2        V3        V4  \\\n",
       "0      17.089918     0.941482 -0.127724 -5.539370 -2.146346 -0.699421   \n",
       "1       0.115978    -0.645062  0.923764  0.344048 -2.880004  1.721680   \n",
       "2       6.053099    -0.226201  0.423572 -1.314097 -0.663715  1.091460   \n",
       "3      -0.296653     0.852830 -0.242245  4.147186 -5.672349  6.493741   \n",
       "4       0.110669    -0.361623 -1.380487 -0.323090  2.600612 -1.217520   \n",
       "\n",
       "         V5        V6        V7        V8  ...       V20       V21       V22  \\\n",
       "0 -2.441239  0.695626  0.084814 -0.091089  ...  1.996949  0.176052 -1.894587   \n",
       "1 -3.019565 -0.639736 -3.801325  1.299096  ...  0.170872  0.899931  1.481271   \n",
       "2 -0.019898  0.749392  0.484669  0.038430  ...  0.791910 -0.005907 -0.972667   \n",
       "3  1.591168 -1.602523 -0.950463  0.722903  ...  0.562030  0.249023 -0.480286   \n",
       "4  0.097694 -0.817269 -0.207665  0.225391  ...  0.198598  0.335022  0.845532   \n",
       "\n",
       "        V23       V24       V25       V26       V27       V28  Class  \n",
       "0 -0.585389  0.157868 -1.065949 -0.717255 -0.215269  0.164709      0  \n",
       "1  0.725266  0.176960 -1.815638 -0.536517  0.489035 -0.049729      1  \n",
       "2 -0.595831 -1.402008  0.547807 -0.469772 -0.065442  0.074948      0  \n",
       "3 -0.286080 -1.153575 -0.035571  0.559628  0.409446  0.221048      1  \n",
       "4 -0.233717  0.576242  0.611262 -0.541609  0.066936  0.084917      0  \n",
       "\n",
       "[5 rows x 31 columns]"
      ]
     },
     "execution_count": 6,
     "metadata": {},
     "output_type": "execute_result"
    }
   ],
   "source": [
    "data = pd.read_csv(\"artifacts/data_cleaning/new_df.csv\")\n",
    "data.head()"
   ]
  },
  {
   "cell_type": "code",
   "execution_count": 7,
   "metadata": {},
   "outputs": [
    {
     "name": "stdout",
     "output_type": "stream",
     "text": [
      "<class 'pandas.core.frame.DataFrame'>\n",
      "RangeIndex: 943 entries, 0 to 942\n",
      "Data columns (total 31 columns):\n",
      " #   Column         Non-Null Count  Dtype  \n",
      "---  ------         --------------  -----  \n",
      " 0   scaled_amount  943 non-null    float64\n",
      " 1   scaled_time    943 non-null    float64\n",
      " 2   V1             943 non-null    float64\n",
      " 3   V2             943 non-null    float64\n",
      " 4   V3             943 non-null    float64\n",
      " 5   V4             943 non-null    float64\n",
      " 6   V5             943 non-null    float64\n",
      " 7   V6             943 non-null    float64\n",
      " 8   V7             943 non-null    float64\n",
      " 9   V8             943 non-null    float64\n",
      " 10  V9             943 non-null    float64\n",
      " 11  V10            943 non-null    float64\n",
      " 12  V11            943 non-null    float64\n",
      " 13  V12            943 non-null    float64\n",
      " 14  V13            943 non-null    float64\n",
      " 15  V14            943 non-null    float64\n",
      " 16  V15            943 non-null    float64\n",
      " 17  V16            943 non-null    float64\n",
      " 18  V17            943 non-null    float64\n",
      " 19  V18            943 non-null    float64\n",
      " 20  V19            943 non-null    float64\n",
      " 21  V20            943 non-null    float64\n",
      " 22  V21            943 non-null    float64\n",
      " 23  V22            943 non-null    float64\n",
      " 24  V23            943 non-null    float64\n",
      " 25  V24            943 non-null    float64\n",
      " 26  V25            943 non-null    float64\n",
      " 27  V26            943 non-null    float64\n",
      " 28  V27            943 non-null    float64\n",
      " 29  V28            943 non-null    float64\n",
      " 30  Class          943 non-null    int64  \n",
      "dtypes: float64(30), int64(1)\n",
      "memory usage: 228.5 KB\n"
     ]
    }
   ],
   "source": [
    "data.info()"
   ]
  },
  {
   "cell_type": "code",
   "execution_count": 8,
   "metadata": {},
   "outputs": [
    {
     "data": {
      "text/plain": [
       "scaled_amount    0\n",
       "scaled_time      0\n",
       "V1               0\n",
       "V2               0\n",
       "V3               0\n",
       "V4               0\n",
       "V5               0\n",
       "V6               0\n",
       "V7               0\n",
       "V8               0\n",
       "V9               0\n",
       "V10              0\n",
       "V11              0\n",
       "V12              0\n",
       "V13              0\n",
       "V14              0\n",
       "V15              0\n",
       "V16              0\n",
       "V17              0\n",
       "V18              0\n",
       "V19              0\n",
       "V20              0\n",
       "V21              0\n",
       "V22              0\n",
       "V23              0\n",
       "V24              0\n",
       "V25              0\n",
       "V26              0\n",
       "V27              0\n",
       "V28              0\n",
       "Class            0\n",
       "dtype: int64"
      ]
     },
     "execution_count": 8,
     "metadata": {},
     "output_type": "execute_result"
    }
   ],
   "source": [
    "data.isnull().sum()"
   ]
  },
  {
   "cell_type": "code",
   "execution_count": 9,
   "metadata": {},
   "outputs": [
    {
     "data": {
      "text/plain": [
       "(943, 31)"
      ]
     },
     "execution_count": 9,
     "metadata": {},
     "output_type": "execute_result"
    }
   ],
   "source": [
    "data.shape"
   ]
  },
  {
   "cell_type": "code",
   "execution_count": 10,
   "metadata": {},
   "outputs": [
    {
     "data": {
      "text/plain": [
       "Index(['scaled_amount', 'scaled_time', 'V1', 'V2', 'V3', 'V4', 'V5', 'V6',\n",
       "       'V7', 'V8', 'V9', 'V10', 'V11', 'V12', 'V13', 'V14', 'V15', 'V16',\n",
       "       'V17', 'V18', 'V19', 'V20', 'V21', 'V22', 'V23', 'V24', 'V25', 'V26',\n",
       "       'V27', 'V28', 'Class'],\n",
       "      dtype='object')"
      ]
     },
     "execution_count": 10,
     "metadata": {},
     "output_type": "execute_result"
    }
   ],
   "source": [
    "data.keys()"
   ]
  },
  {
   "cell_type": "code",
   "execution_count": 11,
   "metadata": {},
   "outputs": [
    {
     "data": {
      "text/plain": [
       "Index(['scaled_amount', 'scaled_time', 'V1', 'V2', 'V3', 'V4', 'V5', 'V6',\n",
       "       'V7', 'V8', 'V9', 'V10', 'V11', 'V12', 'V13', 'V14', 'V15', 'V16',\n",
       "       'V17', 'V18', 'V19', 'V20', 'V21', 'V22', 'V23', 'V24', 'V25', 'V26',\n",
       "       'V27', 'V28', 'Class'],\n",
       "      dtype='object')"
      ]
     },
     "execution_count": 11,
     "metadata": {},
     "output_type": "execute_result"
    }
   ],
   "source": [
    "data.columns"
   ]
  },
  {
   "cell_type": "code",
   "execution_count": 12,
   "metadata": {},
   "outputs": [],
   "source": [
    "from dataclasses import dataclass\n",
    "from pathlib import Path\n",
    "\n",
    "\n",
    "@dataclass(frozen=True)\n",
    "class DataValidationConfig:\n",
    "    root_dir: Path\n",
    "    STATUS_FILE: str\n",
    "    unzip_data_dir: Path\n",
    "    all_schema: dict"
   ]
  },
  {
   "cell_type": "code",
   "execution_count": 13,
   "metadata": {},
   "outputs": [],
   "source": [
    "from mlProject.constants import *\n",
    "from mlProject.utils.common import read_yaml, create_directories"
   ]
  },
  {
   "cell_type": "code",
   "execution_count": 14,
   "metadata": {},
   "outputs": [],
   "source": [
    "class ConfigurationManager:\n",
    "    def __init__(\n",
    "        self,\n",
    "        config_filepath = CONFIG_FILE_PATH,\n",
    "        params_filepath = PARAMS_FILE_PATH,\n",
    "        schema_filepath = SCHEMA_FILE_PATH):\n",
    "\n",
    "        self.config = read_yaml(config_filepath)\n",
    "        self.params = read_yaml(params_filepath)\n",
    "        self.schema = read_yaml(schema_filepath)\n",
    "\n",
    "        create_directories([self.config.artifacts_root])\n",
    "\n",
    "\n",
    "    \n",
    "    def get_data_validation_config(self) -> DataValidationConfig:\n",
    "        config = self.config.data_validation\n",
    "        schema = self.schema.COLUMNS\n",
    "\n",
    "        create_directories([config.root_dir])\n",
    "\n",
    "        data_validation_config = DataValidationConfig(\n",
    "            root_dir=config.root_dir,\n",
    "            STATUS_FILE=config.STATUS_FILE,\n",
    "            unzip_data_dir = config.unzip_data_dir,\n",
    "            all_schema=schema,\n",
    "        )\n",
    "\n",
    "        return data_validation_config"
   ]
  },
  {
   "cell_type": "code",
   "execution_count": 15,
   "metadata": {},
   "outputs": [],
   "source": [
    "import os\n",
    "from mlProject import logger"
   ]
  },
  {
   "cell_type": "code",
   "execution_count": 16,
   "metadata": {},
   "outputs": [],
   "source": [
    "import pandas as pd\n",
    "\n",
    "class DataValidation:\n",
    "    def __init__(self, config: DataValidationConfig):\n",
    "        self.config = config\n",
    "\n",
    "    def validate_all_columns(self) -> bool:\n",
    "        try:\n",
    "            validation_status = True  # Assume validation passes initially\n",
    "\n",
    "            data = pd.read_csv(self.config.unzip_data_dir)\n",
    "            all_cols = list(data.columns)\n",
    "            all_schema = self.config.all_schema.keys()\n",
    "\n",
    "            print(\"Columns in dataset:\", all_cols)\n",
    "            print(\"Columns in schema:\", all_schema)\n",
    "\n",
    "            for col in all_schema:\n",
    "                if col not in all_cols:\n",
    "                    validation_status = False\n",
    "                    print(f\"Column '{col}' not found in dataset.\")\n",
    "                    break\n",
    "\n",
    "            # Write the final validation status after the loop\n",
    "            with open(self.config.STATUS_FILE, 'w') as f:\n",
    "                f.write(f\"Validation status: {validation_status}\")\n",
    "\n",
    "            return validation_status\n",
    "\n",
    "        except Exception as e:\n",
    "            print(\"An exception occurred:\", e)\n",
    "            raise e\n"
   ]
  },
  {
   "cell_type": "code",
   "execution_count": 17,
   "metadata": {},
   "outputs": [
    {
     "name": "stdout",
     "output_type": "stream",
     "text": [
      "[2023-08-11 22:21:49,744: INFO: common: yaml file: config\\config.yaml loaded successfully]\n",
      "[2023-08-11 22:21:49,749: INFO: common: yaml file: params.yaml loaded successfully]\n",
      "[2023-08-11 22:21:49,764: INFO: common: yaml file: schema.yaml loaded successfully]\n",
      "[2023-08-11 22:21:49,772: INFO: common: created directory at: artifacts]\n",
      "[2023-08-11 22:21:49,775: INFO: common: created directory at: artifacts/data_validation]\n",
      "Columns in dataset: ['scaled_amount', 'scaled_time', 'V1', 'V2', 'V3', 'V4', 'V5', 'V6', 'V7', 'V8', 'V9', 'V10', 'V11', 'V12', 'V13', 'V14', 'V15', 'V16', 'V17', 'V18', 'V19', 'V20', 'V21', 'V22', 'V23', 'V24', 'V25', 'V26', 'V27', 'V28', 'Class']\n",
      "Columns in schema: dict_keys(['scaled_amount', 'scaled_time', 'V1', 'V2', 'V3', 'V4', 'V5', 'V6', 'V7', 'V8', 'V9', 'V10', 'V11', 'V12', 'V13', 'V14', 'V15', 'V16', 'V17', 'V18', 'V19', 'V20', 'V21', 'V22', 'V23', 'V24', 'V25', 'V26', 'V27', 'V28'])\n"
     ]
    }
   ],
   "source": [
    "try:\n",
    "    config = ConfigurationManager()\n",
    "    data_validation_config = config.get_data_validation_config()\n",
    "    data_validation = DataValidation(config=data_validation_config)\n",
    "    data_validation.validate_all_columns()\n",
    "except Exception as e:\n",
    "    raise e"
   ]
  }
 ],
 "metadata": {
  "kernelspec": {
   "display_name": "mlproj",
   "language": "python",
   "name": "python3"
  },
  "language_info": {
   "codemirror_mode": {
    "name": "ipython",
    "version": 3
   },
   "file_extension": ".py",
   "mimetype": "text/x-python",
   "name": "python",
   "nbconvert_exporter": "python",
   "pygments_lexer": "ipython3",
   "version": "3.8.17"
  },
  "orig_nbformat": 4
 },
 "nbformat": 4,
 "nbformat_minor": 2
}
